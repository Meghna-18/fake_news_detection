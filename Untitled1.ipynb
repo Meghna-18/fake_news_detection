{
 "cells": [
  {
   "cell_type": "code",
   "execution_count": 4,
   "id": "6befb8f5-8b4c-451b-bc9b-d93677a9792b",
   "metadata": {},
   "outputs": [
    {
     "name": "stdin",
     "output_type": "stream",
     "text": [
      "Enter URL:  https://www.thehindu.com/news/national/manipur-ethnic-violence-probe-panel-collects-evidence/article68886757.ece\n"
     ]
    },
    {
     "name": "stdout",
     "output_type": "stream",
     "text": [
      "81% True.\n"
     ]
    }
   ],
   "source": [
    "%run predict-2.py\n"
   ]
  },
  {
   "cell_type": "code",
   "execution_count": null,
   "id": "e6428221-ad4b-4bd7-ab25-27db2906ae9c",
   "metadata": {},
   "outputs": [],
   "source": []
  }
 ],
 "metadata": {
  "kernelspec": {
   "display_name": "Python 3 (ipykernel)",
   "language": "python",
   "name": "python3"
  },
  "language_info": {
   "codemirror_mode": {
    "name": "ipython",
    "version": 3
   },
   "file_extension": ".py",
   "mimetype": "text/x-python",
   "name": "python",
   "nbconvert_exporter": "python",
   "pygments_lexer": "ipython3",
   "version": "3.11.7"
  }
 },
 "nbformat": 4,
 "nbformat_minor": 5
}
