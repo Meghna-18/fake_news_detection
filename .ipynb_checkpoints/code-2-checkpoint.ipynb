{
 "cells": [
  {
   "cell_type": "code",
   "execution_count": 2,
   "metadata": {},
   "outputs": [],
   "source": [
    "import numpy as np\n",
    "import pandas as pd\n",
    "import matplotlib.pyplot as plt"
   ]
  },
  {
   "cell_type": "code",
   "execution_count": 3,
   "metadata": {},
   "outputs": [
    {
     "data": {
      "text/html": [
       "<div>\n",
       "<style scoped>\n",
       "    .dataframe tbody tr th:only-of-type {\n",
       "        vertical-align: middle;\n",
       "    }\n",
       "\n",
       "    .dataframe tbody tr th {\n",
       "        vertical-align: top;\n",
       "    }\n",
       "\n",
       "    .dataframe thead th {\n",
       "        text-align: right;\n",
       "    }\n",
       "</style>\n",
       "<table border=\"1\" class=\"dataframe\">\n",
       "  <thead>\n",
       "    <tr style=\"text-align: right;\">\n",
       "      <th></th>\n",
       "      <th>title</th>\n",
       "      <th>author</th>\n",
       "      <th>text</th>\n",
       "      <th>label</th>\n",
       "    </tr>\n",
       "    <tr>\n",
       "      <th>id</th>\n",
       "      <th></th>\n",
       "      <th></th>\n",
       "      <th></th>\n",
       "      <th></th>\n",
       "    </tr>\n",
       "  </thead>\n",
       "  <tbody>\n",
       "    <tr>\n",
       "      <th>0</th>\n",
       "      <td>House Dem Aide: We Didn’t Even See Comey’s Let...</td>\n",
       "      <td>Darrell Lucus</td>\n",
       "      <td>House Dem Aide: We Didn’t Even See Comey’s Let...</td>\n",
       "      <td>1</td>\n",
       "    </tr>\n",
       "    <tr>\n",
       "      <th>1</th>\n",
       "      <td>FLYNN: Hillary Clinton, Big Woman on Campus - ...</td>\n",
       "      <td>Daniel J. Flynn</td>\n",
       "      <td>Ever get the feeling your life circles the rou...</td>\n",
       "      <td>0</td>\n",
       "    </tr>\n",
       "    <tr>\n",
       "      <th>2</th>\n",
       "      <td>Why the Truth Might Get You Fired</td>\n",
       "      <td>Consortiumnews.com</td>\n",
       "      <td>Why the Truth Might Get You Fired October 29, ...</td>\n",
       "      <td>1</td>\n",
       "    </tr>\n",
       "    <tr>\n",
       "      <th>3</th>\n",
       "      <td>15 Civilians Killed In Single US Airstrike Hav...</td>\n",
       "      <td>Jessica Purkiss</td>\n",
       "      <td>Videos 15 Civilians Killed In Single US Airstr...</td>\n",
       "      <td>1</td>\n",
       "    </tr>\n",
       "    <tr>\n",
       "      <th>4</th>\n",
       "      <td>Iranian woman jailed for fictional unpublished...</td>\n",
       "      <td>Howard Portnoy</td>\n",
       "      <td>Print \\nAn Iranian woman has been sentenced to...</td>\n",
       "      <td>1</td>\n",
       "    </tr>\n",
       "  </tbody>\n",
       "</table>\n",
       "</div>"
      ],
      "text/plain": [
       "                                                title              author  \\\n",
       "id                                                                          \n",
       "0   House Dem Aide: We Didn’t Even See Comey’s Let...       Darrell Lucus   \n",
       "1   FLYNN: Hillary Clinton, Big Woman on Campus - ...     Daniel J. Flynn   \n",
       "2                   Why the Truth Might Get You Fired  Consortiumnews.com   \n",
       "3   15 Civilians Killed In Single US Airstrike Hav...     Jessica Purkiss   \n",
       "4   Iranian woman jailed for fictional unpublished...      Howard Portnoy   \n",
       "\n",
       "                                                 text  label  \n",
       "id                                                            \n",
       "0   House Dem Aide: We Didn’t Even See Comey’s Let...      1  \n",
       "1   Ever get the feeling your life circles the rou...      0  \n",
       "2   Why the Truth Might Get You Fired October 29, ...      1  \n",
       "3   Videos 15 Civilians Killed In Single US Airstr...      1  \n",
       "4   Print \\nAn Iranian woman has been sentenced to...      1  "
      ]
     },
     "execution_count": 3,
     "metadata": {},
     "output_type": "execute_result"
    }
   ],
   "source": [
    "train = pd.read_csv('train.csv', index_col='id')\n",
    "train.head()"
   ]
  },
  {
   "cell_type": "code",
   "execution_count": 4,
   "metadata": {},
   "outputs": [
    {
     "data": {
      "text/plain": [
       "(20800, 4)"
      ]
     },
     "execution_count": 4,
     "metadata": {},
     "output_type": "execute_result"
    }
   ],
   "source": [
    "train.shape"
   ]
  },
  {
   "cell_type": "code",
   "execution_count": 5,
   "metadata": {},
   "outputs": [
    {
     "data": {
      "text/plain": [
       "title      558\n",
       "author    1957\n",
       "text        39\n",
       "label        0\n",
       "dtype: int64"
      ]
     },
     "execution_count": 5,
     "metadata": {},
     "output_type": "execute_result"
    }
   ],
   "source": [
    "train.isnull().sum()"
   ]
  },
  {
   "cell_type": "code",
   "execution_count": 6,
   "metadata": {
    "scrolled": true
   },
   "outputs": [
    {
     "data": {
      "text/html": [
       "<div>\n",
       "<style scoped>\n",
       "    .dataframe tbody tr th:only-of-type {\n",
       "        vertical-align: middle;\n",
       "    }\n",
       "\n",
       "    .dataframe tbody tr th {\n",
       "        vertical-align: top;\n",
       "    }\n",
       "\n",
       "    .dataframe thead th {\n",
       "        text-align: right;\n",
       "    }\n",
       "</style>\n",
       "<table border=\"1\" class=\"dataframe\">\n",
       "  <thead>\n",
       "    <tr style=\"text-align: right;\">\n",
       "      <th></th>\n",
       "      <th>title</th>\n",
       "      <th>author</th>\n",
       "      <th>text</th>\n",
       "      <th>label</th>\n",
       "      <th>total</th>\n",
       "    </tr>\n",
       "    <tr>\n",
       "      <th>id</th>\n",
       "      <th></th>\n",
       "      <th></th>\n",
       "      <th></th>\n",
       "      <th></th>\n",
       "      <th></th>\n",
       "    </tr>\n",
       "  </thead>\n",
       "  <tbody>\n",
       "    <tr>\n",
       "      <th>0</th>\n",
       "      <td>House Dem Aide: We Didn’t Even See Comey’s Let...</td>\n",
       "      <td>Darrell Lucus</td>\n",
       "      <td>House Dem Aide: We Didn’t Even See Comey’s Let...</td>\n",
       "      <td>1</td>\n",
       "      <td>House Dem Aide: We Didn’t Even See Comey’s Let...</td>\n",
       "    </tr>\n",
       "    <tr>\n",
       "      <th>1</th>\n",
       "      <td>FLYNN: Hillary Clinton, Big Woman on Campus - ...</td>\n",
       "      <td>Daniel J. Flynn</td>\n",
       "      <td>Ever get the feeling your life circles the rou...</td>\n",
       "      <td>0</td>\n",
       "      <td>FLYNN: Hillary Clinton, Big Woman on Campus - ...</td>\n",
       "    </tr>\n",
       "    <tr>\n",
       "      <th>2</th>\n",
       "      <td>Why the Truth Might Get You Fired</td>\n",
       "      <td>Consortiumnews.com</td>\n",
       "      <td>Why the Truth Might Get You Fired October 29, ...</td>\n",
       "      <td>1</td>\n",
       "      <td>Why the Truth Might Get You Fired Consortiumne...</td>\n",
       "    </tr>\n",
       "    <tr>\n",
       "      <th>3</th>\n",
       "      <td>15 Civilians Killed In Single US Airstrike Hav...</td>\n",
       "      <td>Jessica Purkiss</td>\n",
       "      <td>Videos 15 Civilians Killed In Single US Airstr...</td>\n",
       "      <td>1</td>\n",
       "      <td>15 Civilians Killed In Single US Airstrike Hav...</td>\n",
       "    </tr>\n",
       "    <tr>\n",
       "      <th>4</th>\n",
       "      <td>Iranian woman jailed for fictional unpublished...</td>\n",
       "      <td>Howard Portnoy</td>\n",
       "      <td>Print \\nAn Iranian woman has been sentenced to...</td>\n",
       "      <td>1</td>\n",
       "      <td>Iranian woman jailed for fictional unpublished...</td>\n",
       "    </tr>\n",
       "  </tbody>\n",
       "</table>\n",
       "</div>"
      ],
      "text/plain": [
       "                                                title              author  \\\n",
       "id                                                                          \n",
       "0   House Dem Aide: We Didn’t Even See Comey’s Let...       Darrell Lucus   \n",
       "1   FLYNN: Hillary Clinton, Big Woman on Campus - ...     Daniel J. Flynn   \n",
       "2                   Why the Truth Might Get You Fired  Consortiumnews.com   \n",
       "3   15 Civilians Killed In Single US Airstrike Hav...     Jessica Purkiss   \n",
       "4   Iranian woman jailed for fictional unpublished...      Howard Portnoy   \n",
       "\n",
       "                                                 text  label  \\\n",
       "id                                                             \n",
       "0   House Dem Aide: We Didn’t Even See Comey’s Let...      1   \n",
       "1   Ever get the feeling your life circles the rou...      0   \n",
       "2   Why the Truth Might Get You Fired October 29, ...      1   \n",
       "3   Videos 15 Civilians Killed In Single US Airstr...      1   \n",
       "4   Print \\nAn Iranian woman has been sentenced to...      1   \n",
       "\n",
       "                                                total  \n",
       "id                                                     \n",
       "0   House Dem Aide: We Didn’t Even See Comey’s Let...  \n",
       "1   FLYNN: Hillary Clinton, Big Woman on Campus - ...  \n",
       "2   Why the Truth Might Get You Fired Consortiumne...  \n",
       "3   15 Civilians Killed In Single US Airstrike Hav...  \n",
       "4   Iranian woman jailed for fictional unpublished...  "
      ]
     },
     "execution_count": 6,
     "metadata": {},
     "output_type": "execute_result"
    }
   ],
   "source": [
    "train = train.fillna(' ')\n",
    "train['total'] = train['title'] + ' ' + train['author'] + train['text']\n",
    "train.head()"
   ]
  },
  {
   "cell_type": "code",
   "execution_count": 7,
   "metadata": {},
   "outputs": [
    {
     "data": {
      "text/plain": [
       "title     0\n",
       "author    0\n",
       "text      0\n",
       "label     0\n",
       "total     0\n",
       "dtype: int64"
      ]
     },
     "execution_count": 7,
     "metadata": {},
     "output_type": "execute_result"
    }
   ],
   "source": [
    "train.isnull().sum()"
   ]
  },
  {
   "cell_type": "code",
   "execution_count": 8,
   "metadata": {},
   "outputs": [
    {
     "data": {
      "text/html": [
       "<div>\n",
       "<style scoped>\n",
       "    .dataframe tbody tr th:only-of-type {\n",
       "        vertical-align: middle;\n",
       "    }\n",
       "\n",
       "    .dataframe tbody tr th {\n",
       "        vertical-align: top;\n",
       "    }\n",
       "\n",
       "    .dataframe thead th {\n",
       "        text-align: right;\n",
       "    }\n",
       "</style>\n",
       "<table border=\"1\" class=\"dataframe\">\n",
       "  <thead>\n",
       "    <tr style=\"text-align: right;\">\n",
       "      <th></th>\n",
       "      <th>text</th>\n",
       "      <th>label</th>\n",
       "    </tr>\n",
       "    <tr>\n",
       "      <th>id</th>\n",
       "      <th></th>\n",
       "      <th></th>\n",
       "    </tr>\n",
       "  </thead>\n",
       "  <tbody>\n",
       "    <tr>\n",
       "      <th>0</th>\n",
       "      <td>House Dem Aide: We Didn’t Even See Comey’s Let...</td>\n",
       "      <td>1</td>\n",
       "    </tr>\n",
       "    <tr>\n",
       "      <th>1</th>\n",
       "      <td>Ever get the feeling your life circles the rou...</td>\n",
       "      <td>0</td>\n",
       "    </tr>\n",
       "    <tr>\n",
       "      <th>2</th>\n",
       "      <td>Why the Truth Might Get You Fired October 29, ...</td>\n",
       "      <td>1</td>\n",
       "    </tr>\n",
       "    <tr>\n",
       "      <th>3</th>\n",
       "      <td>Videos 15 Civilians Killed In Single US Airstr...</td>\n",
       "      <td>1</td>\n",
       "    </tr>\n",
       "    <tr>\n",
       "      <th>4</th>\n",
       "      <td>Print \\nAn Iranian woman has been sentenced to...</td>\n",
       "      <td>1</td>\n",
       "    </tr>\n",
       "  </tbody>\n",
       "</table>\n",
       "</div>"
      ],
      "text/plain": [
       "                                                 text  label\n",
       "id                                                          \n",
       "0   House Dem Aide: We Didn’t Even See Comey’s Let...      1\n",
       "1   Ever get the feeling your life circles the rou...      0\n",
       "2   Why the Truth Might Get You Fired October 29, ...      1\n",
       "3   Videos 15 Civilians Killed In Single US Airstr...      1\n",
       "4   Print \\nAn Iranian woman has been sentenced to...      1"
      ]
     },
     "execution_count": 8,
     "metadata": {},
     "output_type": "execute_result"
    }
   ],
   "source": [
    "df = train.drop(['title', 'author', 'total'], axis=1)\n",
    "df.head()"
   ]
  },
  {
   "cell_type": "code",
   "execution_count": 10,
   "metadata": {},
   "outputs": [],
   "source": [
    "import pandas as pd\n",
    "import matplotlib.pyplot as plt\n",
    "\n",
    "# Load your dataset (replace with your file path or data source)\n",
    "# For example:\n",
    "# df = pd.read_csv(\"data.csv\")\n",
    "# Replace `target_column` with the name of your target column\n",
    "\n",
    "def check_balance(df, label):\n",
    "    # Count the number of samples for each class\n",
    "    class_counts = df[label].value_counts()\n",
    "\n",
    "    print(\"Class Distribution:\")\n",
    "    print(class_counts)\n",
    "\n",
    "    # Plot the distribution for visualization\n",
    "    plt.figure(figsize=(8, 6))\n",
    "    class_counts.plot(kind='bar', color='skyblue', edgecolor='black')\n",
    "    plt.title(\"Class Distribution\")\n",
    "    plt.xlabel(\"Classes\")\n",
    "    plt.ylabel(\"Number of Samples\")\n",
    "    plt.xticks(rotation=0)\n",
    "    plt.show()\n",
    "\n",
    "    # Calculate imbalance ratio\n",
    "    max_count = class_counts.max()\n",
    "    min_count = class_counts.min()\n",
    "\n",
    "    imbalance_ratio = min_count / max_count\n",
    "    print(f\"Imbalance Ratio: {imbalance_ratio:.2f}\")\n",
    "\n",
    "    # Determine if the dataset is balanced\n",
    "    threshold = 0.5  # Customize as per your requirement\n",
    "    if imbalance_ratio >= threshold:\n",
    "        print(\"The dataset is balanced.\")\n",
    "    else:\n",
    "        print(\"The dataset is imbalanced.\")\n"
   ]
  },
  {
   "cell_type": "code",
   "execution_count": 11,
   "metadata": {},
   "outputs": [
    {
     "name": "stdout",
     "output_type": "stream",
     "text": [
      "Class Distribution:\n",
      "label\n",
      "1    10413\n",
      "0    10387\n",
      "Name: count, dtype: int64\n"
     ]
    },
    {
     "data": {
      "image/png": "[encoded data removed]",
      "text/plain": [
       "<Figure size 800x600 with 1 Axes>"
      ]
     },
     "metadata": {},
     "output_type": "display_data"
    },
    {
     "name": "stdout",
     "output_type": "stream",
     "text": [
      "Imbalance Ratio: 1.00\n",
      "The dataset is balanced.\n"
     ]
    }
   ],
   "source": [
    "# Call the function with your DataFrame and target column\n",
    "check_balance(df, 'label')\n"
   ]
  },
  {
   "cell_type": "code",
   "execution_count": 12,
   "metadata": {},
   "outputs": [],
   "source": [
    "import re\n",
    "import string\n",
    "\n",
    "def wordopt(text):\n",
    "    text = str(text)  # Ensure the input is a string\n",
    "    text = text.lower()  # Convert to lowercase\n",
    "    text = re.sub(r\"\\[.*?\\]\", \"\", text)  # Remove text inside square brackets\n",
    "    text = re.sub(r\"\\\\W\", \" \", text)  # Replace non-word characters with a space\n",
    "    text = re.sub(r\"https?://\\S+|www\\.\\S+\", \"\", text)  # Remove URLs\n",
    "    text = re.sub(r'<.*?>+', '', text)  # Remove HTML tags\n",
    "    text = re.sub(r'[%s]' % re.escape(string.punctuation), '', text)  # Remove punctuation\n",
    "    text = re.sub(r'\\n', '', text)  # Remove newlines\n",
    "    text = re.sub(r'\\w*\\d\\w*', '', text)  # Remove words containing digits\n",
    "    return text\n"
   ]
  },
  {
   "cell_type": "code",
   "execution_count": 13,
   "metadata": {},
   "outputs": [],
   "source": [
    "df['text'] = df['text'].apply(wordopt)"
   ]
  },
  {
   "cell_type": "code",
   "execution_count": 14,
   "metadata": {},
   "outputs": [
    {
     "data": {
      "text/html": [
       "<div>\n",
       "<style scoped>\n",
       "    .dataframe tbody tr th:only-of-type {\n",
       "        vertical-align: middle;\n",
       "    }\n",
       "\n",
       "    .dataframe tbody tr th {\n",
       "        vertical-align: top;\n",
       "    }\n",
       "\n",
       "    .dataframe thead th {\n",
       "        text-align: right;\n",
       "    }\n",
       "</style>\n",
       "<table border=\"1\" class=\"dataframe\">\n",
       "  <thead>\n",
       "    <tr style=\"text-align: right;\">\n",
       "      <th></th>\n",
       "      <th>text</th>\n",
       "      <th>label</th>\n",
       "    </tr>\n",
       "    <tr>\n",
       "      <th>id</th>\n",
       "      <th></th>\n",
       "      <th></th>\n",
       "    </tr>\n",
       "  </thead>\n",
       "  <tbody>\n",
       "    <tr>\n",
       "      <th>0</th>\n",
       "      <td>house dem aide we didn’t even see comey’s lett...</td>\n",
       "      <td>1</td>\n",
       "    </tr>\n",
       "    <tr>\n",
       "      <th>1</th>\n",
       "      <td>ever get the feeling your life circles the rou...</td>\n",
       "      <td>0</td>\n",
       "    </tr>\n",
       "    <tr>\n",
       "      <th>2</th>\n",
       "      <td>why the truth might get you fired october   th...</td>\n",
       "      <td>1</td>\n",
       "    </tr>\n",
       "    <tr>\n",
       "      <th>3</th>\n",
       "      <td>videos  civilians killed in single us airstrik...</td>\n",
       "      <td>1</td>\n",
       "    </tr>\n",
       "    <tr>\n",
       "      <th>4</th>\n",
       "      <td>print an iranian woman has been sentenced to s...</td>\n",
       "      <td>1</td>\n",
       "    </tr>\n",
       "  </tbody>\n",
       "</table>\n",
       "</div>"
      ],
      "text/plain": [
       "                                                 text  label\n",
       "id                                                          \n",
       "0   house dem aide we didn’t even see comey’s lett...      1\n",
       "1   ever get the feeling your life circles the rou...      0\n",
       "2   why the truth might get you fired october   th...      1\n",
       "3   videos  civilians killed in single us airstrik...      1\n",
       "4   print an iranian woman has been sentenced to s...      1"
      ]
     },
     "execution_count": 14,
     "metadata": {},
     "output_type": "execute_result"
    }
   ],
   "source": [
    "df.head()"
   ]
  },
  {
   "cell_type": "code",
   "execution_count": 15,
   "metadata": {},
   "outputs": [],
   "source": [
    "X = df['text']\n",
    "y = df['label']"
   ]
  },
  {
   "cell_type": "code",
   "execution_count": 16,
   "metadata": {},
   "outputs": [],
   "source": [
    "from sklearn.model_selection import train_test_split\n",
    "#X_train, X_test, y_train, y_test = train_test_split(X, y, test_size=0.30, random_state=42)\n",
    "def stratified_split(df, label, test_size=0.3, random_state=42):\n",
    "\n",
    "    # Perform stratified split\n",
    "    X_train, X_test, y_train, y_test = train_test_split(\n",
    "        X, y, test_size=test_size, random_state=random_state, stratify=y\n",
    "    )\n",
    "\n",
    "    print(\"Training set class distribution:\")\n",
    "    print(y_train.value_counts())\n",
    "    print(\"\\nTesting set class distribution:\")\n",
    "    print(y_test.value_counts())\n",
    "\n",
    "    return X_train, X_test, y_train, y_test"
   ]
  },
  {
   "cell_type": "code",
   "execution_count": 17,
   "metadata": {
    "jupyter": {
     "source_hidden": true
    }
   },
   "outputs": [
    {
     "name": "stdout",
     "output_type": "stream",
     "text": [
      "Training set class distribution:\n",
      "label\n",
      "1    7289\n",
      "0    7271\n",
      "Name: count, dtype: int64\n",
      "\n",
      "Testing set class distribution:\n",
      "label\n",
      "1    3124\n",
      "0    3116\n",
      "Name: count, dtype: int64\n"
     ]
    }
   ],
   "source": [
    "X_train, X_test, y_train, y_test = stratified_split(df, 'label')"
   ]
  },
  {
   "cell_type": "code",
   "execution_count": 18,
   "metadata": {
    "jupyter": {
     "source_hidden": true
    },
    "scrolled": true
   },
   "outputs": [
    {
     "name": "stdout",
     "output_type": "stream",
     "text": [
      "(14560,)\n",
      "(6240,)\n",
      "(14560,)\n",
      "(6240,)\n"
     ]
    }
   ],
   "source": [
    "print(X_train.shape)\n",
    "print(X_test.shape)\n",
    "print(y_train.shape)\n",
    "print(y_test.shape)"
   ]
  },
  {
   "cell_type": "code",
   "execution_count": 23,
   "metadata": {},
   "outputs": [],
   "source": [
    "from sklearn.feature_extraction.text import TfidfVectorizer\n",
    "tfidf_vectorizer = TfidfVectorizer(stop_words='english', max_df=0.7) \n",
    "tfidf_train = tfidf_vectorizer.fit_transform(X_train)\n",
    "tfidf_test = tfidf_vectorizer.transform(X_test)"
   ]
  },
  {
   "cell_type": "code",
   "execution_count": 24,
   "metadata": {},
   "outputs": [],
   "source": [
    "from sklearn.feature_extraction.text import HashingVectorizer\n",
    "hashing_vectorizer = HashingVectorizer(stop_words='english', n_features=2**16)\n",
    "hashing_train = hashing_vectorizer.fit_transform(X_train)\n",
    "hashing_test = hashing_vectorizer.transform(X_test)"
   ]
  },
  {
   "cell_type": "code",
   "execution_count": 25,
   "metadata": {},
   "outputs": [
    {
     "name": "stdout",
     "output_type": "stream",
     "text": [
      "Confusion Matrix:\n",
      "[[3096   20]\n",
      " [ 936 2188]]\n",
      "Accuracy: 84.679%\n",
      "Sensitivity (Recall): 99.358%\n",
      "Specificity: 99.358%\n",
      "F1 Score: 82.071%\n"
     ]
    }
   ],
   "source": [
    "from sklearn.naive_bayes import MultinomialNB\n",
    "from sklearn.metrics import confusion_matrix, accuracy_score, f1_score, recall_score\n",
    "MNB = MultinomialNB() \n",
    "MNB.fit(tfidf_train, y_train)\n",
    "pred = MNB.predict(tfidf_test)\n",
    "from sklearn.metrics import confusion_matrix\n",
    "MNBcm = confusion_matrix(y_test, pred)\n",
    "print(\"Confusion Matrix:\")\n",
    "print(MNBcm)\n",
    "from sklearn.metrics import accuracy_score\n",
    "MNBscore = accuracy_score(y_test, pred)\n",
    "print(\"Accuracy: {:.3f}%\".format(MNBscore * 100))\n",
    "sensitivity_mnb = recall_score(y_test, pred, pos_label=0) \n",
    "print(\"Sensitivity (Recall): {:.3f}%\".format(sensitivity_mnb * 100))\n",
    "specificity_mnb = MNBcm[0, 0] / (MNBcm[0, 0] + MNBcm[0, 1])  # TN / (TN + FP)\n",
    "print(\"Specificity: {:.3f}%\".format(specificity_mnb * 100))\n",
    "from sklearn.metrics import f1_score\n",
    "f1_mnb = f1_score(y_test, pred)\n",
    "print(\"F1 Score: {:.3f}%\".format(f1_mnb * 100))"
   ]
  },
  {
   "cell_type": "code",
   "execution_count": 26,
   "metadata": {},
   "outputs": [
    {
     "name": "stdout",
     "output_type": "stream",
     "text": [
      "Confusion Matrix:\n",
      "[[3068   48]\n",
      " [ 791 2333]]\n",
      "Accuracy: 86.554%\n",
      "Sensitivity (Recall): 98.460%\n",
      "Specificity: 98.460%\n",
      "F1 Score: 84.759%\n"
     ]
    }
   ],
   "source": [
    "# Transform the data to ensure non-negative values\n",
    "hashing_train_non_negative = np.abs(hashing_train)\n",
    "hashing_test_non_negative = np.abs(hashing_test)\n",
    "\n",
    "MNB_h = MultinomialNB()\n",
    "MNB_h.fit(hashing_train_non_negative, y_train)\n",
    "pred = MNB_h.predict(hashing_test_non_negative)\n",
    "MNBcm_h = confusion_matrix(y_test, pred)\n",
    "print(\"Confusion Matrix:\")\n",
    "print(MNBcm_h)\n",
    "MNBscore_h = accuracy_score(y_test, pred)\n",
    "print(\"Accuracy: {:.3f}%\".format(MNBscore_h * 100))\n",
    "sensitivity_mnb_h = recall_score(y_test, pred, pos_label=0)\n",
    "print(\"Sensitivity (Recall): {:.3f}%\".format(sensitivity_mnb_h * 100))\n",
    "specificity_mnb_h = MNBcm_h[0, 0] / (MNBcm_h[0, 0] + MNBcm_h[0, 1])\n",
    "print(\"Specificity: {:.3f}%\".format(specificity_mnb_h * 100))\n",
    "f1_mnb_h = f1_score(y_test, pred)\n",
    "print(\"F1 Score: {:.3f}%\".format(f1_mnb_h * 100))\n"
   ]
  },
  {
   "cell_type": "code",
   "execution_count": 27,
   "metadata": {},
   "outputs": [
    {
     "data": {
      "image/png": "[encoded data removed]",
      "text/plain": [
       "<Figure size 1000x600 with 1 Axes>"
      ]
     },
     "metadata": {},
     "output_type": "display_data"
    }
   ],
   "source": [
    "import numpy as np\n",
    "import matplotlib.pyplot as plt\n",
    "\n",
    "metrics_tfidf = [sensitivity_mnb, specificity_mnb, f1_mnb, MNBscore]\n",
    "metrics_hashing = [sensitivity_mnb_h, specificity_mnb_h, f1_mnb_h, MNBscore_h]\n",
    "metric_labels = ['Sensitivity (%)', 'Specificity (%)', 'F1 Score (%)', 'Accuracy (%)']\n",
    "metrics_tfidf = [metric * 100 for metric in metrics_tfidf]\n",
    "metrics_hashing = [metric * 100 for metric in metrics_hashing]\n",
    "x = np.arange(len(metric_labels))  # X-axis positions\n",
    "width = 0.35  # Width of bars\n",
    "\n",
    "# Create bar plots\n",
    "fig, ax = plt.subplots(figsize=(10, 6))\n",
    "bars1 = ax.bar(x - width/2, metrics_tfidf, width, label='TF-IDF Data', color='blue', alpha=0.7)\n",
    "bars2 = ax.bar(x + width/2, metrics_hashing, width, label='Hashed Data', color='orange', alpha=0.7)\n",
    "ax.set_xlabel('Metrics', fontsize=12)\n",
    "ax.set_ylabel('Percentage (%)', fontsize=12)\n",
    "ax.set_title('Comparison of Metrics: TF-IDF vs Hashed Data', fontsize=14)\n",
    "ax.set_xticks(x)\n",
    "ax.set_xticklabels(metric_labels, fontsize=11)\n",
    "ax.legend()\n",
    "\n",
    "# Display bar values on top\n",
    "def add_bar_labels(bars):\n",
    "    for bar in bars:\n",
    "        height = bar.get_height()\n",
    "        ax.text(bar.get_x() + bar.get_width()/2., height + 1, f'{height:.1f}', ha='center', va='bottom', fontsize=10)\n",
    "\n",
    "add_bar_labels(bars1)\n",
    "add_bar_labels(bars2)\n",
    "\n",
    "# Show plot\n",
    "plt.tight_layout()\n",
    "plt.show()"
   ]
  },
  {
   "cell_type": "code",
   "execution_count": 30,
   "metadata": {},
   "outputs": [
    {
     "name": "stdout",
     "output_type": "stream",
     "text": [
      "[[2884  232]\n",
      " [ 162 2962]]\n",
      "Accuracy: 93.686%\n",
      "Sensitivity (Recall): 92.555%\n",
      "Specificity: 92.555%\n",
      "F1 Score: 93.764%\n"
     ]
    }
   ],
   "source": [
    "from sklearn.linear_model import LogisticRegression\n",
    "LR = LogisticRegression(random_state = 0)\n",
    "LR.fit(tfidf_train, y_train )\n",
    "pred = LR.predict(tfidf_test)\n",
    "LRcm = confusion_matrix(y_test, pred)\n",
    "print(LRcm)\n",
    "LRscore = accuracy_score(y_test, pred)\n",
    "print(\"Accuracy: {:.3f}%\".format(LRscore * 100))\n",
    "sensitivity_lr = recall_score(y_test, pred, pos_label=0)  \n",
    "print(\"Sensitivity (Recall): {:.3f}%\".format(sensitivity_lr * 100))\n",
    "specificity_lr = LRcm[0, 0] / (LRcm[0, 0] + LRcm[0, 1])  # TN / (TN + FP)\n",
    "print(\"Specificity: {:.3f}%\".format(specificity_lr * 100))\n",
    "f1_lr = f1_score(y_test, pred)\n",
    "print(\"F1 Score: {:.3f}%\".format(f1_lr * 100))\n"
   ]
  },
  {
   "cell_type": "code",
   "execution_count": 31,
   "metadata": {},
   "outputs": [
    {
     "name": "stdout",
     "output_type": "stream",
     "text": [
      "Confusion Matrix (Logistic Regression):\n",
      "[[2851  265]\n",
      " [ 177 2947]]\n",
      "Accuracy: 92.917%\n",
      "Sensitivity (Recall): 91.496%\n",
      "Specificity: 91.496%\n",
      "F1 Score: 93.024%\n"
     ]
    }
   ],
   "source": [
    "LR_h = LogisticRegression(random_state=0)\n",
    "LR_h.fit(hashing_train, y_train)\n",
    "pred = LR_h.predict(hashing_test)\n",
    "LRcm_h = confusion_matrix(y_test, pred)\n",
    "print(\"Confusion Matrix (Logistic Regression):\")\n",
    "print(LRcm_h)\n",
    "LRscore_h = accuracy_score(y_test, pred)\n",
    "print(\"Accuracy: {:.3f}%\".format(LRscore_h * 100))\n",
    "sensitivity_lr_h = recall_score(y_test, pred, pos_label=0)  # Adjust pos_label as per your dataset\n",
    "print(\"Sensitivity (Recall): {:.3f}%\".format(sensitivity_lr_h * 100))\n",
    "specificity_lr_h = LRcm_h[0, 0] / (LRcm_h[0, 0] + LRcm_h[0, 1])  # Adjust index if needed\n",
    "print(\"Specificity: {:.3f}%\".format(specificity_lr_h * 100))\n",
    "f1_lr_h = f1_score(y_test, pred)\n",
    "print(\"F1 Score: {:.3f}%\".format(f1_lr_h * 100))\n"
   ]
  },
  {
   "cell_type": "code",
   "execution_count": 32,
   "metadata": {},
   "outputs": [
    {
     "data": {
      "image/png": "[encoded data removed]",
      "text/plain": [
       "<Figure size 1000x600 with 1 Axes>"
      ]
     },
     "metadata": {},
     "output_type": "display_data"
    }
   ],
   "source": [
    "\n",
    "metrics_tfidf_lr = [sensitivity_lr, specificity_lr, f1_lr, LRscore]\n",
    "metrics_hashing_lr = [sensitivity_lr_h, specificity_lr_h, f1_lr_h, LRscore_h]\n",
    "metric_labels = ['Sensitivity (%)', 'Specificity (%)', 'F1 Score (%)', 'Accuracy (%)']\n",
    "metrics_tfidf_lr = [metric * 100 for metric in metrics_tfidf_lr]\n",
    "metrics_hashing_lr = [metric * 100 for metric in metrics_hashing_lr]\n",
    "x = np.arange(len(metric_labels))  # X-axis positions\n",
    "width = 0.35  # Width of bars\n",
    "fig, ax = plt.subplots(figsize=(10, 6))\n",
    "bars1 = ax.bar(x - width/2, metrics_tfidf_lr, width, label='TF-IDF Data', color='blue', alpha=0.7)\n",
    "bars2 = ax.bar(x + width/2, metrics_hashing_lr, width, label='Hashed Data', color='orange', alpha=0.7)\n",
    "ax.set_xlabel('Metrics', fontsize=12)\n",
    "ax.set_ylabel('Percentage (%)', fontsize=12)\n",
    "ax.set_title('Comparison of Logistic Regression Metrics: TF-IDF vs Hashed Data', fontsize=14)\n",
    "ax.set_xticks(x)\n",
    "ax.set_xticklabels(metric_labels, fontsize=11)\n",
    "ax.legend()\n",
    "def add_bar_labels(bars):\n",
    "    for bar in bars:\n",
    "        height = bar.get_height()\n",
    "        ax.text(bar.get_x() + bar.get_width()/2., height + 1, f'{height:.1f}', ha='center', va='bottom', fontsize=10)\n",
    "add_bar_labels(bars1)\n",
    "add_bar_labels(bars2)\n",
    "plt.tight_layout()\n",
    "plt.show()\n"
   ]
  },
  {
   "cell_type": "code",
   "execution_count": 33,
   "metadata": {},
   "outputs": [
    {
     "name": "stdout",
     "output_type": "stream",
     "text": [
      "Confusion Matrix:\n",
      "[[2876  240]\n",
      " [ 618 2506]]\n",
      "Accuracy: 86.250%\n",
      "Sensitivity (Recall): 92.298%\n",
      "Specificity: 92.298%\n",
      "F1 Score: 85.383%\n"
     ]
    }
   ],
   "source": [
    "from sklearn.neighbors import KNeighborsClassifier\n",
    "KNN = KNeighborsClassifier(n_neighbors=1000)\n",
    "KNN.fit(tfidf_train, y_train)\n",
    "pred = KNN.predict(tfidf_test)\n",
    "KNNcm = confusion_matrix(y_test, pred)\n",
    "print(\"Confusion Matrix:\")\n",
    "print(KNNcm)\n",
    "KNNscore = accuracy_score(y_test, pred)\n",
    "print(\"Accuracy: {:.3f}%\".format(KNNscore * 100))\n",
    "sensitivity_knn = recall_score(y_test, pred, pos_label=0)  \n",
    "print(\"Sensitivity (Recall): {:.3f}%\".format(sensitivity_knn * 100))\n",
    "specificity_knn = KNNcm[0, 0] / (KNNcm[0, 0] + KNNcm[0, 1])  # TN / (TN + FP)\n",
    "print(\"Specificity: {:.3f}%\".format(specificity_knn * 100))\n",
    "f1_knn = f1_score(y_test, pred)\n",
    "print(\"F1 Score: {:.3f}%\".format(f1_knn * 100))"
   ]
  },
  {
   "cell_type": "code",
   "execution_count": 34,
   "metadata": {},
   "outputs": [
    {
     "name": "stdout",
     "output_type": "stream",
     "text": [
      "Confusion Matrix:\n",
      "[[ 773 2343]\n",
      " [  31 3093]]\n",
      "Accuracy: 61.955%\n",
      "Sensitivity (Recall): 24.807%\n",
      "Specificity: 24.807%\n",
      "F1 Score: 72.266%\n"
     ]
    }
   ],
   "source": [
    "KNN_h = KNeighborsClassifier()\n",
    "KNN_h.fit(hashing_train, y_train)\n",
    "pred = KNN_h.predict(hashing_test)\n",
    "KNNcm_h = confusion_matrix(y_test, pred)\n",
    "print(\"Confusion Matrix:\")\n",
    "print(KNNcm_h)\n",
    "KNNscore_h = accuracy_score(y_test, pred)\n",
    "print(\"Accuracy: {:.3f}%\".format(KNNscore_h * 100))\n",
    "sensitivity_knn_h = recall_score(y_test, pred, pos_label=0)\n",
    "print(\"Sensitivity (Recall): {:.3f}%\".format(sensitivity_knn_h * 100))\n",
    "specificity_knn_h = KNNcm_h[0, 0] / (KNNcm_h[0, 0] + KNNcm_h[0, 1])\n",
    "print(\"Specificity: {:.3f}%\".format(specificity_knn_h * 100))\n",
    "f1_knn_h = f1_score(y_test,pred)\n",
    "print(\"F1 Score: {:.3f}%\".format(f1_knn_h * 100))\n"
   ]
  },
  {
   "cell_type": "code",
   "execution_count": 35,
   "metadata": {},
   "outputs": [
    {
     "data": {
      "image/png": "[encoded data removed]",
      "text/plain": [
       "<Figure size 1000x600 with 1 Axes>"
      ]
     },
     "metadata": {},
     "output_type": "display_data"
    }
   ],
   "source": [
    "import matplotlib.pyplot as plt\n",
    "import numpy as np\n",
    "\n",
    "metrics_tfidf_knn = [sensitivity_knn, specificity_knn, f1_knn, KNNscore]\n",
    "metrics_hashing_knn = [sensitivity_knn_h, specificity_knn_h, f1_knn_h, KNNscore_h]\n",
    "metric_labels = ['Sensitivity (%)', 'Specificity (%)', 'F1 Score (%)', 'Accuracy (%)']\n",
    "\n",
    "metrics_tfidf_knn = [metric * 100 for metric in metrics_tfidf_knn]\n",
    "metrics_hashing_knn = [metric * 100 for metric in metrics_hashing_knn]\n",
    "\n",
    "x = np.arange(len(metric_labels))  # X-axis positions\n",
    "width = 0.35  # Width of bars\n",
    "\n",
    "fig, ax = plt.subplots(figsize=(10, 6))\n",
    "bars1 = ax.bar(x - width/2, metrics_tfidf_knn, width, label='TF-IDF Data', color='blue', alpha=0.7)\n",
    "bars2 = ax.bar(x + width/2, metrics_hashing_knn, width, label='Hashed Data', color='orange', alpha=0.7)\n",
    "\n",
    "ax.set_xlabel('Metrics', fontsize=12)\n",
    "ax.set_ylabel('Percentage (%)', fontsize=12)\n",
    "ax.set_title('Comparison of KNN Metrics: TF-IDF vs Hashed Data', fontsize=14)\n",
    "ax.set_xticks(x)\n",
    "ax.set_xticklabels(metric_labels, fontsize=11)\n",
    "ax.legend()\n",
    "\n",
    "def add_bar_labels(bars):\n",
    "    for bar in bars:\n",
    "        height = bar.get_height()\n",
    "        ax.text(bar.get_x() + bar.get_width()/2., height + 1, f'{height:.1f}', ha='center', va='bottom', fontsize=10)\n",
    "\n",
    "add_bar_labels(bars1)\n",
    "add_bar_labels(bars2)\n",
    "\n",
    "plt.tight_layout()\n",
    "plt.show()\n"
   ]
  },
  {
   "cell_type": "code",
   "execution_count": 36,
   "metadata": {},
   "outputs": [
    {
     "name": "stdout",
     "output_type": "stream",
     "text": [
      "Confusion Matrix:\n",
      "[[2715  401]\n",
      " [ 324 2800]]\n",
      "Accuracy: 88.381%\n",
      "Sensitivity (Recall): 87.131%\n",
      "Specificity: 87.131%\n",
      "F1 Score: 88.538%\n"
     ]
    }
   ],
   "source": [
    "from sklearn.tree import DecisionTreeClassifier\n",
    "decision_tree = DecisionTreeClassifier(random_state=42)\n",
    "decision_tree.fit(tfidf_train, y_train)\n",
    "y_pred_dt = decision_tree.predict(tfidf_test)\n",
    "DTcm = confusion_matrix(y_test, y_pred_dt)\n",
    "print(\"Confusion Matrix:\")\n",
    "print(DTcm)\n",
    "DTscore = accuracy_score(y_test, y_pred_dt)\n",
    "print(\"Accuracy: {:.3f}%\".format(DTscore * 100))\n",
    "sensitivity_dt = recall_score(y_test, y_pred_dt, pos_label=0)\n",
    "print(\"Sensitivity (Recall): {:.3f}%\".format(sensitivity_dt * 100))\n",
    "specificity_dt = DTcm[0, 0] / (DTcm[0, 0] + DTcm[0, 1])  # TN / (TN + FP)\n",
    "print(\"Specificity: {:.3f}%\".format(specificity_dt * 100))\n",
    "f1_dt = f1_score(y_test, y_pred_dt)\n",
    "print(\"F1 Score: {:.3f}%\".format(f1_dt * 100))"
   ]
  },
  {
   "cell_type": "code",
   "execution_count": 37,
   "metadata": {},
   "outputs": [
    {
     "name": "stdout",
     "output_type": "stream",
     "text": [
      "Confusion Matrix (Hashing):\n",
      "[[2708  408]\n",
      " [ 371 2753]]\n",
      "Decision Tree Accuracy (Hashing): 87.516%\n",
      "Sensitivity (Recall) (Hashing): 86.906%\n",
      "Specificity (Hashing): 86.906%\n",
      "F1 Score (Hashing): 87.605%\n"
     ]
    }
   ],
   "source": [
    "decision_tree_h = DecisionTreeClassifier(random_state=42)\n",
    "decision_tree_h.fit(hashing_train, y_train)\n",
    "y_pred_dt_h = decision_tree_h.predict(hashing_test)\n",
    "DTcm_h = confusion_matrix(y_test, y_pred_dt_h)\n",
    "print(\"Confusion Matrix (Hashing):\")\n",
    "print(DTcm_h)\n",
    "DTscore_h = accuracy_score(y_test, y_pred_dt_h)\n",
    "print(\"Decision Tree Accuracy (Hashing): {:.3f}%\".format(DTscore_h * 100))\n",
    "sensitivity_dt_h = recall_score(y_test, y_pred_dt_h, pos_label=0)\n",
    "print(\"Sensitivity (Recall) (Hashing): {:.3f}%\".format(sensitivity_dt_h * 100))\n",
    "specificity_dt_h = DTcm_h[0, 0] / (DTcm_h[0, 0] + DTcm_h[0, 1])  # TN / (TN + FP)\n",
    "print(\"Specificity (Hashing): {:.3f}%\".format(specificity_dt_h * 100))\n",
    "f1_dt_h = f1_score(y_test, y_pred_dt_h)\n",
    "print(\"F1 Score (Hashing): {:.3f}%\".format(f1_dt_h * 100))\n"
   ]
  },
  {
   "cell_type": "code",
   "execution_count": 38,
   "metadata": {},
   "outputs": [
    {
     "data": {
      "image/png": "[encoded data removed]",
      "text/plain": [
       "<Figure size 1000x600 with 1 Axes>"
      ]
     },
     "metadata": {},
     "output_type": "display_data"
    }
   ],
   "source": [
    "\n",
    "metrics_tfidf_dt = [sensitivity_dt, specificity_dt, f1_dt, DTscore]\n",
    "metrics_hashing_dt = [sensitivity_dt_h, specificity_dt_h, f1_dt_h, DTscore_h]\n",
    "metric_labels = ['Sensitivity (%)', 'Specificity (%)', 'F1 Score (%)', 'Accuracy (%)']\n",
    "\n",
    "# Convert metrics to percentages\n",
    "metrics_tfidf_dt = [metric * 100 for metric in metrics_tfidf_dt]\n",
    "metrics_hashing_dt = [metric * 100 for metric in metrics_hashing_dt]\n",
    "\n",
    "x = np.arange(len(metric_labels))  # X-axis positions\n",
    "width = 0.35  \n",
    "fig, ax = plt.subplots(figsize=(10, 6))\n",
    "\n",
    "# Plot the bars for TF-IDF and Hashing Decision Tree\n",
    "bars1 = ax.bar(x - width/2, metrics_tfidf_dt, width, label='TF-IDF Data', color='blue', alpha=0.7)\n",
    "bars2 = ax.bar(x + width/2, metrics_hashing_dt, width, label='Hashed Data', color='orange', alpha=0.7)\n",
    "ax.set_xlabel('Metrics', fontsize=12)\n",
    "ax.set_ylabel('Percentage (%)', fontsize=12)\n",
    "ax.set_title('Comparison of Decision Tree Metrics: TF-IDF vs Hashed Data', fontsize=14)\n",
    "ax.set_xticks(x)\n",
    "ax.set_xticklabels(metric_labels, fontsize=11)\n",
    "ax.legend()\n",
    "def add_bar_labels(bars):\n",
    "    for bar in bars:\n",
    "        height = bar.get_height()\n",
    "        ax.text(bar.get_x() + bar.get_width()/2., height + 1, f'{height:.1f}%', ha='center', va='bottom', fontsize=10)\n",
    "add_bar_labels(bars1)\n",
    "add_bar_labels(bars2)\n",
    "plt.tight_layout()\n",
    "plt.show()\n"
   ]
  },
  {
   "cell_type": "code",
   "execution_count": 39,
   "metadata": {},
   "outputs": [
    {
     "name": "stdout",
     "output_type": "stream",
     "text": [
      "Confusion Matrix:\n",
      "[[2935  181]\n",
      " [ 371 2753]]\n",
      "Random Forest Accuracy: 91.154%\n",
      "Sensitivity (Recall): 94.191%\n",
      "Specificity: 94.191%\n",
      "F1 Score: 90.888%\n"
     ]
    }
   ],
   "source": [
    "# Train and Evaluate Random Forest\n",
    "from sklearn.ensemble import RandomForestClassifier\n",
    "random_forest = RandomForestClassifier(random_state=42, n_estimators=100)\n",
    "random_forest.fit(tfidf_train, y_train)\n",
    "y_pred_rf = random_forest.predict(tfidf_test)\n",
    "RFcm = confusion_matrix(y_test, y_pred_rf)\n",
    "print(\"Confusion Matrix:\")\n",
    "print(RFcm)\n",
    "RFscore = accuracy_score(y_test, y_pred_rf)\n",
    "print(\"Random Forest Accuracy: {:.3f}%\".format(RFscore * 100))\n",
    "sensitivity_rf = recall_score(y_test, y_pred_rf, pos_label=0) \n",
    "print(\"Sensitivity (Recall): {:.3f}%\".format(sensitivity_rf * 100))\n",
    "specificity_rf = RFcm[0, 0] / (RFcm[0, 0] + RFcm[0, 1])  # TN / (TN + FP)\n",
    "print(\"Specificity: {:.3f}%\".format(specificity_rf * 100))\n",
    "f1_rf = f1_score(y_test, y_pred_rf)\n",
    "print(\"F1 Score: {:.3f}%\".format(f1_rf * 100))"
   ]
  },
  {
   "cell_type": "code",
   "execution_count": 40,
   "metadata": {},
   "outputs": [
    {
     "name": "stdout",
     "output_type": "stream",
     "text": [
      "Confusion Matrix (Hashing):\n",
      "[[2956  160]\n",
      " [ 335 2789]]\n",
      "Random Forest Accuracy (Hashing): 92.067%\n",
      "Sensitivity (Recall) (Hashing): 94.865%\n",
      "Specificity (Hashing): 94.865%\n",
      "F1 Score (Hashing): 91.849%\n"
     ]
    }
   ],
   "source": [
    "\n",
    "random_forest_h = RandomForestClassifier(random_state=42, n_estimators=100)\n",
    "random_forest_h.fit(hashing_train, y_train)\n",
    "y_pred_rf_h = random_forest_h.predict(hashing_test)\n",
    "RFcm_h = confusion_matrix(y_test, y_pred_rf_h)\n",
    "print(\"Confusion Matrix (Hashing):\")\n",
    "print(RFcm_h)\n",
    "RFscore_h = accuracy_score(y_test, y_pred_rf_h)\n",
    "print(\"Random Forest Accuracy (Hashing): {:.3f}%\".format(RFscore_h * 100))\n",
    "sensitivity_rf_h = recall_score(y_test, y_pred_rf_h, pos_label=0) \n",
    "print(\"Sensitivity (Recall) (Hashing): {:.3f}%\".format(sensitivity_rf_h * 100))\n",
    "specificity_rf_h = RFcm_h[0, 0] / (RFcm_h[0, 0] + RFcm_h[0, 1])  # TN / (TN + FP)\n",
    "print(\"Specificity (Hashing): {:.3f}%\".format(specificity_rf_h * 100))\n",
    "f1_rf_h = f1_score(y_test, y_pred_rf_h)\n",
    "print(\"F1 Score (Hashing): {:.3f}%\".format(f1_rf_h * 100))\n"
   ]
  },
  {
   "cell_type": "code",
   "execution_count": 41,
   "metadata": {},
   "outputs": [
    {
     "data": {
      "image/png": "[encoded data removed]",
      "text/plain": [
       "<Figure size 1000x600 with 1 Axes>"
      ]
     },
     "metadata": {},
     "output_type": "display_data"
    }
   ],
   "source": [
    "\n",
    "metrics_tfidf_rf = [sensitivity_rf, specificity_rf, f1_rf, RFscore]\n",
    "metrics_hashing_rf = [sensitivity_rf_h, specificity_rf_h, f1_rf_h, RFscore_h]\n",
    "metric_labels = ['Sensitivity (%)', 'Specificity (%)', 'F1 Score (%)', 'Accuracy (%)']\n",
    "metrics_tfidf_rf = [metric * 100 for metric in metrics_tfidf_rf]\n",
    "metrics_hashing_rf = [metric * 100 for metric in metrics_hashing_rf]\n",
    "x = np.arange(len(metric_labels))  # X-axis positions\n",
    "width = 0.35  # Width of bars\n",
    "fig, ax = plt.subplots(figsize=(10, 6))\n",
    "bars1 = ax.bar(x - width/2, metrics_tfidf_rf, width, label='TF-IDF Data', color='blue', alpha=0.7)\n",
    "bars2 = ax.bar(x + width/2, metrics_hashing_rf, width, label='Hashed Data', color='orange', alpha=0.7)\n",
    "ax.set_xlabel('Metrics', fontsize=12)\n",
    "ax.set_ylabel('Percentage (%)', fontsize=12)\n",
    "ax.set_title('Comparison of Random Forest Metrics: TF-IDF vs Hashed Data', fontsize=14)\n",
    "ax.set_xticks(x)\n",
    "ax.set_xticklabels(metric_labels, fontsize=11)\n",
    "ax.legend()\n",
    "def add_bar_labels(bars):\n",
    "    for bar in bars:\n",
    "        height = bar.get_height()\n",
    "        ax.text(bar.get_x() + bar.get_width()/2., height + 1, f'{height:.1f}', ha='center', va='bottom', fontsize=10)\n",
    "\n",
    "add_bar_labels(bars1)\n",
    "add_bar_labels(bars2)\n",
    "\n",
    "plt.tight_layout()\n",
    "plt.show()\n"
   ]
  },
  {
   "cell_type": "code",
   "execution_count": 42,
   "metadata": {},
   "outputs": [
    {
     "name": "stdout",
     "output_type": "stream",
     "text": [
      "Confusion Matrix:\n",
      "[[2973  143]\n",
      " [ 138 2986]]\n",
      "SVM Accuracy: 95.497%\n",
      "Sensitivity (Recall): 95.411%\n",
      "Specificity: 95.411%\n",
      "F1 Score: 95.506%\n"
     ]
    }
   ],
   "source": [
    "# Train and Evaluate SVM\n",
    "from sklearn.svm import SVC\n",
    "svm_model = SVC(kernel='linear', random_state=42, probability=True)\n",
    "svm_model.fit(tfidf_train, y_train)\n",
    "y_pred_svm = svm_model.predict(tfidf_test)\n",
    "SVCcm = confusion_matrix(y_test, y_pred_svm)\n",
    "print(\"Confusion Matrix:\")\n",
    "print(SVCcm)\n",
    "SVscore = accuracy_score(y_test, y_pred_svm)\n",
    "print(\"SVM Accuracy: {:.3f}%\".format(SVscore * 100))\n",
    "sensitivity_svm = recall_score(y_test, y_pred_svm, pos_label=0) \n",
    "print(\"Sensitivity (Recall): {:.3f}%\".format(sensitivity_svm * 100))\n",
    "specificity_svm = SVCcm[0, 0] / (SVCcm[0, 0] + SVCcm[0, 1])  # TN / (TN + FP)\n",
    "print(\"Specificity: {:.3f}%\".format(specificity_svm * 100))\n",
    "f1_svm = f1_score(y_test, y_pred_svm)\n",
    "print(\"F1 Score: {:.3f}%\".format(f1_svm * 100))"
   ]
  },
  {
   "cell_type": "code",
   "execution_count": 43,
   "metadata": {},
   "outputs": [
    {
     "name": "stdout",
     "output_type": "stream",
     "text": [
      "Confusion Matrix (Hashing):\n",
      "[[2926  190]\n",
      " [ 158 2966]]\n",
      "Accuracy: 94.423%\n",
      "Sensitivity (Recall): 93.902%\n",
      "Specificity: 93.902%\n",
      "F1 Score: 94.459%\n"
     ]
    }
   ],
   "source": [
    "from sklearn.svm import SVC\n",
    "svm_model_h = SVC(kernel='linear', random_state=42, probability=True)\n",
    "svm_model_h.fit(hashing_train, y_train)\n",
    "y_pred_svm_h = svm_model_h.predict(hashing_test)\n",
    "SVCcm_h = confusion_matrix(y_test, y_pred_svm_h)\n",
    "print(\"Confusion Matrix (Hashing):\")\n",
    "print(SVCcm_h)\n",
    "SVscore_h = accuracy_score(y_test, y_pred_svm_h)\n",
    "print(\"Accuracy: {:.3f}%\".format(SVscore_h * 100))\n",
    "sensitivity_svm_h = recall_score(y_test, y_pred_svm_h, pos_label=0)\n",
    "print(\"Sensitivity (Recall): {:.3f}%\".format(sensitivity_svm_h * 100))\n",
    "specificity_svm_h = SVCcm_h[0, 0] / (SVCcm_h[0, 0] + SVCcm_h[0, 1])  # TN / (TN + FP)\n",
    "print(\"Specificity: {:.3f}%\".format(specificity_svm_h * 100))\n",
    "f1_svm_h = f1_score(y_test, y_pred_svm_h)\n",
    "print(\"F1 Score: {:.3f}%\".format(f1_svm_h * 100))\n"
   ]
  },
  {
   "cell_type": "code",
   "execution_count": 44,
   "metadata": {},
   "outputs": [
    {
     "data": {
      "image/png": "[encoded data removed]",
      "text/plain": [
       "<Figure size 1000x600 with 1 Axes>"
      ]
     },
     "metadata": {},
     "output_type": "display_data"
    }
   ],
   "source": [
    "import numpy as np\n",
    "import matplotlib.pyplot as plt\n",
    "\n",
    "# Define metrics for TF-IDF and Hashing SVM\n",
    "metrics_tfidf_svm = [sensitivity_svm, specificity_svm, f1_svm, SVscore]\n",
    "metrics_hashing_svm = [sensitivity_svm_h, specificity_svm_h, f1_svm_h, SVscore_h]\n",
    "metric_labels = ['Sensitivity (%)', 'Specificity (%)', 'F1 Score (%)', 'Accuracy (%)']\n",
    "\n",
    "# Multiply metrics by 100 for percentage representation\n",
    "metrics_tfidf_svm = [metric * 100 for metric in metrics_tfidf_svm]\n",
    "metrics_hashing_svm = [metric * 100 for metric in metrics_hashing_svm]\n",
    "\n",
    "# X-axis positions\n",
    "x = np.arange(len(metric_labels))\n",
    "width = 0.35  # Width of bars\n",
    "fig, ax = plt.subplots(figsize=(10, 6))\n",
    "bars1 = ax.bar(x - width/2, metrics_tfidf_svm, width, label='TF-IDF', color='blue', alpha=0.7)\n",
    "bars2 = ax.bar(x + width/2, metrics_hashing_svm, width, label='Hashed', color='orange', alpha=0.7)\n",
    "ax.set_xlabel('Metrics', fontsize=12)\n",
    "ax.set_ylabel('Percentage (%)', fontsize=12)\n",
    "ax.set_title('Comparison of SVM Metrics: TF-IDF vs Hashed Data', fontsize=14)\n",
    "ax.set_xticks(x)\n",
    "ax.set_xticklabels(metric_labels, fontsize=11)\n",
    "ax.legend()\n",
    "def add_bar_labels(bars):\n",
    "    for bar in bars:\n",
    "        height = bar.get_height()\n",
    "        ax.text(bar.get_x() + bar.get_width()/2., height + 1, f'{height:.1f}', ha='center', va='bottom', fontsize=10)\n",
    "add_bar_labels(bars1)\n",
    "add_bar_labels(bars2)\n",
    "plt.tight_layout()\n",
    "plt.show()"
   ]
  },
  {
   "cell_type": "code",
   "execution_count": 45,
   "metadata": {},
   "outputs": [
    {
     "data": {
      "text/html": [
       "<div>\n",
       "<style scoped>\n",
       "    .dataframe tbody tr th:only-of-type {\n",
       "        vertical-align: middle;\n",
       "    }\n",
       "\n",
       "    .dataframe tbody tr th {\n",
       "        vertical-align: top;\n",
       "    }\n",
       "\n",
       "    .dataframe thead th {\n",
       "        text-align: right;\n",
       "    }\n",
       "</style>\n",
       "<table border=\"1\" class=\"dataframe\">\n",
       "  <thead>\n",
       "    <tr style=\"text-align: right;\">\n",
       "      <th></th>\n",
       "      <th>Classifier</th>\n",
       "      <th>Accuracy (%) (tf-idf)</th>\n",
       "      <th>Sensitivity (%) (tf-idf)</th>\n",
       "      <th>Specificity (%) (tf-idf)</th>\n",
       "      <th>F1 Score (%) (tf-idf)</th>\n",
       "      <th>Accuracy (%) (hashing)</th>\n",
       "      <th>Sensitivity (%) (hashing)</th>\n",
       "      <th>Specificity (%) (hashing)</th>\n",
       "      <th>F1 Score (%) (hashing)</th>\n",
       "    </tr>\n",
       "    <tr>\n",
       "      <th>S.no.</th>\n",
       "      <th></th>\n",
       "      <th></th>\n",
       "      <th></th>\n",
       "      <th></th>\n",
       "      <th></th>\n",
       "      <th></th>\n",
       "      <th></th>\n",
       "      <th></th>\n",
       "      <th></th>\n",
       "    </tr>\n",
       "  </thead>\n",
       "  <tbody>\n",
       "    <tr>\n",
       "      <th>1</th>\n",
       "      <td>MultinomialNB</td>\n",
       "      <td>84.679487</td>\n",
       "      <td>99.358151</td>\n",
       "      <td>99.358151</td>\n",
       "      <td>82.070518</td>\n",
       "      <td>86.554487</td>\n",
       "      <td>98.459564</td>\n",
       "      <td>98.459564</td>\n",
       "      <td>84.759310</td>\n",
       "    </tr>\n",
       "    <tr>\n",
       "      <th>2</th>\n",
       "      <td>LogisticRegression</td>\n",
       "      <td>93.685897</td>\n",
       "      <td>92.554557</td>\n",
       "      <td>92.554557</td>\n",
       "      <td>93.763849</td>\n",
       "      <td>92.916667</td>\n",
       "      <td>91.495507</td>\n",
       "      <td>91.495507</td>\n",
       "      <td>93.023990</td>\n",
       "    </tr>\n",
       "    <tr>\n",
       "      <th>3</th>\n",
       "      <td>KNeighborsClassifier</td>\n",
       "      <td>86.250000</td>\n",
       "      <td>92.297818</td>\n",
       "      <td>92.297818</td>\n",
       "      <td>85.383305</td>\n",
       "      <td>61.955128</td>\n",
       "      <td>24.807445</td>\n",
       "      <td>24.807445</td>\n",
       "      <td>72.266355</td>\n",
       "    </tr>\n",
       "    <tr>\n",
       "      <th>4</th>\n",
       "      <td>DecisionTreeClassifier</td>\n",
       "      <td>88.381410</td>\n",
       "      <td>87.130937</td>\n",
       "      <td>87.130937</td>\n",
       "      <td>88.537549</td>\n",
       "      <td>87.516026</td>\n",
       "      <td>86.906290</td>\n",
       "      <td>86.906290</td>\n",
       "      <td>87.605410</td>\n",
       "    </tr>\n",
       "    <tr>\n",
       "      <th>5</th>\n",
       "      <td>RandomForestClassifier</td>\n",
       "      <td>91.153846</td>\n",
       "      <td>94.191271</td>\n",
       "      <td>94.191271</td>\n",
       "      <td>90.888082</td>\n",
       "      <td>92.067308</td>\n",
       "      <td>94.865212</td>\n",
       "      <td>94.865212</td>\n",
       "      <td>91.849168</td>\n",
       "    </tr>\n",
       "    <tr>\n",
       "      <th>6</th>\n",
       "      <td>SupportVectorMachine(SVM)</td>\n",
       "      <td>95.496795</td>\n",
       "      <td>95.410783</td>\n",
       "      <td>95.410783</td>\n",
       "      <td>95.506157</td>\n",
       "      <td>94.423077</td>\n",
       "      <td>93.902439</td>\n",
       "      <td>93.902439</td>\n",
       "      <td>94.458599</td>\n",
       "    </tr>\n",
       "  </tbody>\n",
       "</table>\n",
       "</div>"
      ],
      "text/plain": [
       "                      Classifier  Accuracy (%) (tf-idf)  \\\n",
       "S.no.                                                     \n",
       "1                  MultinomialNB              84.679487   \n",
       "2             LogisticRegression              93.685897   \n",
       "3           KNeighborsClassifier              86.250000   \n",
       "4         DecisionTreeClassifier              88.381410   \n",
       "5         RandomForestClassifier              91.153846   \n",
       "6      SupportVectorMachine(SVM)              95.496795   \n",
       "\n",
       "       Sensitivity (%) (tf-idf)  Specificity (%) (tf-idf)  \\\n",
       "S.no.                                                       \n",
       "1                     99.358151                 99.358151   \n",
       "2                     92.554557                 92.554557   \n",
       "3                     92.297818                 92.297818   \n",
       "4                     87.130937                 87.130937   \n",
       "5                     94.191271                 94.191271   \n",
       "6                     95.410783                 95.410783   \n",
       "\n",
       "       F1 Score (%) (tf-idf)  Accuracy (%) (hashing)  \\\n",
       "S.no.                                                  \n",
       "1                  82.070518               86.554487   \n",
       "2                  93.763849               92.916667   \n",
       "3                  85.383305               61.955128   \n",
       "4                  88.537549               87.516026   \n",
       "5                  90.888082               92.067308   \n",
       "6                  95.506157               94.423077   \n",
       "\n",
       "       Sensitivity (%) (hashing)  Specificity (%) (hashing)  \\\n",
       "S.no.                                                         \n",
       "1                      98.459564                  98.459564   \n",
       "2                      91.495507                  91.495507   \n",
       "3                      24.807445                  24.807445   \n",
       "4                      86.906290                  86.906290   \n",
       "5                      94.865212                  94.865212   \n",
       "6                      93.902439                  93.902439   \n",
       "\n",
       "       F1 Score (%) (hashing)  \n",
       "S.no.                          \n",
       "1                   84.759310  \n",
       "2                   93.023990  \n",
       "3                   72.266355  \n",
       "4                   87.605410  \n",
       "5                   91.849168  \n",
       "6                   94.458599  "
      ]
     },
     "execution_count": 45,
     "metadata": {},
     "output_type": "execute_result"
    }
   ],
   "source": [
    "accuracy_values = [MNBscore, LRscore, KNNscore, DTscore, RFscore, SVscore]\n",
    "sensitivity_values = [sensitivity_mnb, sensitivity_lr, sensitivity_knn, sensitivity_dt, sensitivity_rf, sensitivity_svm]\n",
    "specificity_values = [specificity_mnb, specificity_lr, specificity_knn, specificity_dt, specificity_rf, specificity_svm]\n",
    "f1_values = [f1_mnb, f1_lr, f1_knn, f1_dt, f1_rf, f1_svm]\n",
    "\n",
    "accuracy_values_h = [MNBscore_h, LRscore_h, KNNscore_h, DTscore_h, RFscore_h, SVscore_h]\n",
    "sensitivity_values_h = [sensitivity_mnb_h, sensitivity_lr_h, sensitivity_knn_h, sensitivity_dt_h, sensitivity_rf_h, sensitivity_svm_h]\n",
    "specificity_values_h = [specificity_mnb_h, specificity_lr_h, specificity_knn_h, specificity_dt_h, specificity_rf_h, specificity_svm_h]\n",
    "f1_values_h = [f1_mnb_h, f1_lr_h, f1_knn_h, f1_dt_h, f1_rf_h, f1_svm_h]\n",
    "\n",
    "accuracy_values = [val * 100 for val in accuracy_values]\n",
    "sensitivity_values = [val * 100 for val in sensitivity_values]\n",
    "specificity_values = [val * 100 for val in specificity_values]\n",
    "f1_values = [val * 100 for val in f1_values]\n",
    "\n",
    "accuracy_values_h = [val * 100 for val in accuracy_values_h]\n",
    "sensitivity_values_h = [val * 100 for val in sensitivity_values_h]\n",
    "specificity_values_h = [val * 100 for val in specificity_values_h]\n",
    "f1_values_h = [val * 100 for val in f1_values_h]\n",
    "# Data including the new columns for sensitivity, specificity, and F1 score\n",
    "data_h = [\n",
    "    [1, \"MultinomialNB\", accuracy_values[0], sensitivity_values[0], specificity_values[0], f1_values[0], accuracy_values_h[0], sensitivity_values_h[0], specificity_values_h[0], f1_values_h[0]],\n",
    "    [2, \"LogisticRegression\", accuracy_values[1], sensitivity_values[1], specificity_values[1], f1_values[1], accuracy_values_h[1], sensitivity_values_h[1], specificity_values_h[1], f1_values_h[1]],\n",
    "    [3, \"KNeighborsClassifier\", accuracy_values[2], sensitivity_values[2], specificity_values[2], f1_values[2], accuracy_values_h[2], sensitivity_values_h[2], specificity_values_h[2], f1_values_h[2]],\n",
    "    [4, \"DecisionTreeClassifier\", accuracy_values[3], sensitivity_values[3], specificity_values[3], f1_values[3], accuracy_values_h[3], sensitivity_values_h[3], specificity_values_h[3], f1_values_h[3]],\n",
    "    [5, \"RandomForestClassifier\", accuracy_values[4], sensitivity_values[4], specificity_values[4], f1_values[4], accuracy_values_h[4], sensitivity_values_h[4], specificity_values_h[4], f1_values_h[4]],\n",
    "    [6, \"SupportVectorMachine(SVM)\", accuracy_values[5], sensitivity_values[5], specificity_values[5], f1_values[5], accuracy_values_h[5], sensitivity_values_h[5], specificity_values_h[5], f1_values_h[5]]\n",
    "]\n",
    "\n",
    "headers = [\n",
    "    \"S.no.\", \"Classifier\", \n",
    "    \"Accuracy (%) (tf-idf)\", \"Sensitivity (%) (tf-idf)\", \"Specificity (%) (tf-idf)\", \"F1 Score (%) (tf-idf)\",\n",
    "    \"Accuracy (%) (hashing)\", \"Sensitivity (%) (hashing)\", \"Specificity (%) (hashing)\", \"F1 Score (%) (hashing)\"\n",
    "]\n",
    "\n",
    "# Creating DataFrame\n",
    "results_h = pd.DataFrame(data_h, columns=headers)\n",
    "results_h.set_index(\"S.no.\", inplace=True)\n",
    "results_h\n"
   ]
  },
  {
   "cell_type": "code",
   "execution_count": 46,
   "metadata": {},
   "outputs": [],
   "source": [
    "import pickle\n",
    "model_filename = 'svm_model.pickle'\n",
    "vectorizer_filename = 'tfidf_vectorizer.pickle'\n",
    "pickle.dump(svm_model, open(model_filename, 'wb'))\n",
    "pickle.dump(tfidf_vectorizer, open(vectorizer_filename, 'wb'))"
   ]
  },
  {
   "cell_type": "code",
   "execution_count": 47,
   "metadata": {},
   "outputs": [],
   "source": [
    "model_filename = 'MNB.pickle'\n",
    "pickle.dump(MNB, open(model_filename, 'wb'))"
   ]
  },
  {
   "cell_type": "code",
   "execution_count": 48,
   "metadata": {},
   "outputs": [],
   "source": [
    "model_filename = 'KNN.pickle'\n",
    "pickle.dump(KNN, open(model_filename, 'wb'))"
   ]
  },
  {
   "cell_type": "code",
   "execution_count": 49,
   "metadata": {},
   "outputs": [],
   "source": [
    "model_filename = 'LR.pickle'\n",
    "pickle.dump(LR, open(model_filename, 'wb'))"
   ]
  },
  {
   "cell_type": "code",
   "execution_count": 50,
   "metadata": {},
   "outputs": [],
   "source": [
    "model_filename = 'decision_tree.pickle'\n",
    "pickle.dump(decision_tree, open(model_filename, 'wb'))"
   ]
  },
  {
   "cell_type": "code",
   "execution_count": 51,
   "metadata": {},
   "outputs": [],
   "source": [
    "model_filename = 'random_forest.pickle'\n",
    "pickle.dump(random_forest, open(model_filename, 'wb'))"
   ]
  },
  {
   "cell_type": "code",
   "execution_count": 52,
   "metadata": {},
   "outputs": [],
   "source": [
    "vectorizer_filename = 'hashing_vectorizer.pickle'\n",
    "pickle.dump(hashing_vectorizer, open(vectorizer_filename, 'wb'))\n"
   ]
  },
  {
   "cell_type": "code",
   "execution_count": 53,
   "metadata": {},
   "outputs": [],
   "source": [
    "model_filename = 'MNB_h.pickle'\n",
    "pickle.dump(decision_tree, open(model_filename, 'wb'))"
   ]
  },
  {
   "cell_type": "code",
   "execution_count": 54,
   "metadata": {},
   "outputs": [],
   "source": [
    "model_filename = 'KNN_h.pickle'\n",
    "pickle.dump(KNN, open(model_filename, 'wb'))"
   ]
  },
  {
   "cell_type": "code",
   "execution_count": 55,
   "metadata": {},
   "outputs": [],
   "source": [
    "model_filename = 'random_forest_h.pickle'\n",
    "pickle.dump(random_forest, open(model_filename, 'wb'))"
   ]
  },
  {
   "cell_type": "code",
   "execution_count": 56,
   "metadata": {},
   "outputs": [],
   "source": [
    "model_filename = 'decision_tree_h.pickle'\n",
    "pickle.dump(decision_tree, open(model_filename, 'wb'))"
   ]
  },
  {
   "cell_type": "code",
   "execution_count": 57,
   "metadata": {},
   "outputs": [],
   "source": [
    "model_filename = 'LR_h.pickle'\n",
    "pickle.dump(LR, open(model_filename, 'wb'))"
   ]
  },
  {
   "cell_type": "code",
   "execution_count": 58,
   "metadata": {},
   "outputs": [],
   "source": [
    "model_filename = 'svm_model_h.pickle'\n",
    "pickle.dump(LR, open(model_filename, 'wb'))"
   ]
  },
  {
   "cell_type": "code",
   "execution_count": 61,
   "metadata": {},
   "outputs": [
    {
     "name": "stdin",
     "output_type": "stream",
     "text": [
      "Enter URL:  https://timesofindia.indiatimes.com/entertainment/hindi/bollywood/news/aishwarya-rai-bachchan-silences-divorce-rumours-with-abhishek-bachchan-as-she-flaunts-wedding-ring-in-photos-from-aaradhyas-birthday-party-pics-inside/articleshow/115523111.cms\n"
     ]
    },
    {
     "name": "stdout",
     "output_type": "stream",
     "text": [
      "\n",
      "Using SVM:\n",
      "Prediction: 95% True.\n",
      "\n",
      "Using LR.PICKLE:\n",
      "Prediction: 71% True.\n",
      "\n",
      "Using RANDOM:\n",
      "Prediction: 43% True.\n",
      "\n",
      "Using DECISION:\n",
      "Prediction: 100% True.\n",
      "\n",
      "Using KNN.PICKLE:\n",
      "Prediction: 48% True.\n",
      "\n",
      "Using MNB.PICKLE:\n",
      "Prediction: 20% True.\n",
      "\n",
      "Using SVM:\n",
      "Error in predicting with svm_model_h.pickle: X has 65536 features, but LogisticRegression is expecting 165111 features as input.\n",
      "\n",
      "Using LR:\n",
      "Error in predicting with LR_h.pickle: X has 65536 features, but LogisticRegression is expecting 165111 features as input.\n",
      "\n",
      "Using RANDOM:\n",
      "Error in predicting with random_forest_h.pickle: X has 65536 features, but RandomForestClassifier is expecting 165111 features as input.\n",
      "\n",
      "Using DECISION:\n",
      "Error in predicting with decision_tree_h.pickle: X has 65536 features, but DecisionTreeClassifier is expecting 165111 features as input.\n",
      "\n",
      "Using KNN:\n",
      "Error in predicting with KNN_h.pickle: X has 65536 features, but KNeighborsClassifier is expecting 165111 features as input.\n",
      "\n",
      "Using MNB:\n",
      "Error in predicting with MNB_h.pickle: X has 65536 features, but DecisionTreeClassifier is expecting 165111 features as input.\n"
     ]
    }
   ],
   "source": [
    "import pickle\n",
    "import math\n",
    "import requests\n",
    "from bs4 import BeautifulSoup\n",
    "import re\n",
    "import string\n",
    "\n",
    "# List of models and their respective vectorizers\n",
    "models_and_vectorizers = [\n",
    "    (\"svm_model.pickle\", \"tfidf_vectorizer.pickle\"),\n",
    "    (\"LR.pickle\", \"tfidf_vectorizer.pickle\"),\n",
    "    (\"random_forest.pickle\", \"tfidf_vectorizer.pickle\"),\n",
    "    (\"decision_tree.pickle\", \"tfidf_vectorizer.pickle\"),\n",
    "    (\"KNN.pickle\", \"tfidf_vectorizer.pickle\"),\n",
    "    (\"MNB.pickle\", \"tfidf_vectorizer.pickle\"),\n",
    "    (\"svm_model_h.pickle\", \"hashing_vectorizer.pickle\"),\n",
    "    (\"LR_h.pickle\", \"hashing_vectorizer.pickle\"),\n",
    "    (\"random_forest_h.pickle\", \"hashing_vectorizer.pickle\"),\n",
    "    (\"decision_tree_h.pickle\", \"hashing_vectorizer.pickle\"),\n",
    "    (\"KNN_h.pickle\", \"hashing_vectorizer.pickle\"),\n",
    "    (\"MNB_h.pickle\", \"hashing_vectorizer.pickle\")\n",
    "]\n",
    "\n",
    "# Function to clean and preprocess text\n",
    "def wordopt(text):\n",
    "    text = text.lower()\n",
    "    text = re.sub(r'\\[.*?\\]', '', text)  # Remove text within square brackets\n",
    "    text = re.sub(r'\\W', ' ', text)     # Replace non-word characters with spaces\n",
    "    text = re.sub(r'https?://\\S+|www\\.\\S+', '', text)  # Remove URLs\n",
    "    text = re.sub(r'<.*?>+', '', text)  # Remove HTML tags\n",
    "    text = re.sub(r'[%s]' % re.escape(string.punctuation), '', text)  # Remove punctuation\n",
    "    text = re.sub(r'\\n', '', text)      # Remove newlines\n",
    "    text = re.sub(r'\\w*\\d\\w*', '', text)  # Remove words containing digits\n",
    "    return text\n",
    "\n",
    "# Function to scrape content from a URL\n",
    "def scrape_content(url):\n",
    "    response = requests.get(url)\n",
    "    soup = BeautifulSoup(response.text, 'html.parser')\n",
    "    text = soup.get_text()\n",
    "    return text\n",
    "\n",
    "# Input link from the user\n",
    "link = input(\"Enter URL: \")\n",
    "scraped_text = scrape_content(link)\n",
    "\n",
    "# Clean and preprocess the scraped text\n",
    "cleaned_text = wordopt(scraped_text)\n",
    "\n",
    "# Loop through models and make predictions\n",
    "for model_filename, vectorizer_filename in models_and_vectorizers:\n",
    "    # Load the model and vectorizer\n",
    "    model = pickle.load(open(model_filename, 'rb'))\n",
    "    vectorizer = pickle.load(open(vectorizer_filename, 'rb'))\n",
    "    \n",
    "    # Transform the cleaned text using the loaded vectorizer\n",
    "    tfidf_x = vectorizer.transform([cleaned_text])\n",
    "    \n",
    "    # Check that the model and vectorizer match\n",
    "    print(f\"\\nUsing {model_filename.split('_')[0].upper()}:\")\n",
    "    if hasattr(model, \"predict_proba\"):\n",
    "        try:\n",
    "            pred_prob = model.predict_proba(tfidf_x)[0][1]  # Probability for class 1\n",
    "            result = math.ceil(pred_prob * 100)  # Convert to percentage\n",
    "            print(f\"Prediction: {result}% True.\")\n",
    "        except ValueError as e:\n",
    "            print(f\"Error in predicting with {model_filename}: {e}\")\n",
    "    else:\n",
    "        pred = model.predict(tfidf_x)\n",
    "        print(f\"Prediction: {pred[0]}\")\n"
   ]
  },
  {
   "cell_type": "code",
   "execution_count": null,
   "metadata": {},
   "outputs": [],
   "source": []
  }
 ],
 "metadata": {
  "kernelspec": {
   "display_name": "Python 3 (ipykernel)",
   "language": "python",
   "name": "python3"
  },
  "language_info": {
   "codemirror_mode": {
    "name": "ipython",
    "version": 3
   },
   "file_extension": ".py",
   "mimetype": "text/x-python",
   "name": "python",
   "nbconvert_exporter": "python",
   "pygments_lexer": "ipython3",
   "version": "3.11.7"
  },
  "vscode": {
   "interpreter": {
    "hash": "d2c26edeb71c183d00f3ea4492109e50ea7304db1ea63d6baf2e661e67572bed"
   }
  }
 },
 "nbformat": 4,
 "nbformat_minor": 4
}
